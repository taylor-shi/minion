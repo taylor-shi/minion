{
 "cells": [
  {
   "cell_type": "code",
   "execution_count": 14,
   "metadata": {},
   "outputs": [
    {
     "data": {
      "text/html": [
       "134914"
      ],
      "text/latex": [
       "134914"
      ],
      "text/markdown": [
       "134914"
      ],
      "text/plain": [
       "[1] 134914"
      ]
     },
     "metadata": {},
     "output_type": "display_data"
    },
    {
     "data": {
      "text/html": [
       "247189744"
      ],
      "text/latex": [
       "247189744"
      ],
      "text/markdown": [
       "247189744"
      ],
      "text/plain": [
       "[1] 247189744"
      ]
     },
     "metadata": {},
     "output_type": "display_data"
    },
    {
     "data": {
      "text/html": [
       "4898"
      ],
      "text/latex": [
       "4898"
      ],
      "text/markdown": [
       "4898"
      ],
      "text/plain": [
       "[1] 4898"
      ]
     },
     "metadata": {},
     "output_type": "display_data"
    },
    {
     "data": {
      "text/html": [
       "<strong>png:</strong> 2"
      ],
      "text/latex": [
       "\\textbf{png:} 2"
      ],
      "text/markdown": [
       "**png:** 2"
      ],
      "text/plain": [
       "png \n",
       "  2 "
      ]
     },
     "metadata": {},
     "output_type": "display_data"
    }
   ],
   "source": [
    "#Create color density plot showing coverage across a chromosome\n",
    "\n",
    "fileext<- '2019-7-8_3CL/A431/chr_cvg/NC_000001.11_cvg'  ##change input file\n",
    "csv<-paste(fileext, \".csv\", sep=\"\")\n",
    "a431 <- read.csv(csv,header=FALSE,sep='\\t')\n",
    "data <- a431\n",
    "\n",
    "data<-data[data$V3>=10,]\n",
    "\n",
    "jpg<-paste(fileext, '.jpg', sep=\"\")\n",
    "min_pos<-min(data$V2)\n",
    "min_pos\n",
    "max_pos<-max(data$V2)\n",
    "max_pos\n",
    "max_cvg<-max(data$V3)\n",
    "max_cvg\n",
    "\n",
    "jpeg(jpg)#change output filename here\n",
    "smoothScatter(\n",
    "    data$V2,data$V3,\n",
    "    pch='.',\n",
    "    xlim=c(min_pos,max_pos),\n",
    "    xlab='Position',\n",
    "    ylim=c(10,700),\n",
    "    ylab='Depth',\n",
    "#     transformation = function(x) x^.25,\n",
    "#     nrpoints=100,\n",
    "    main='Sequence coverage depth',\n",
    "    xaxs='i',\n",
    "    yaxs='i')\n",
    "dev.off()"
   ]
  },
  {
   "cell_type": "code",
   "execution_count": 17,
   "metadata": {},
   "outputs": [
    {
     "data": {
      "text/html": [
       "<table>\n",
       "<thead><tr><th scope=col>V1</th><th scope=col>V2</th><th scope=col>V3</th></tr></thead>\n",
       "<tbody>\n",
       "\t<tr><td>NC_000001.11</td><td>14356       </td><td>1           </td></tr>\n",
       "\t<tr><td>NC_000001.11</td><td>14357       </td><td>1           </td></tr>\n",
       "\t<tr><td>NC_000001.11</td><td>14358       </td><td>1           </td></tr>\n",
       "\t<tr><td>NC_000001.11</td><td>14359       </td><td>1           </td></tr>\n",
       "\t<tr><td>NC_000001.11</td><td>14360       </td><td>1           </td></tr>\n",
       "\t<tr><td>NC_000001.11</td><td>14361       </td><td>1           </td></tr>\n",
       "</tbody>\n",
       "</table>\n"
      ],
      "text/latex": [
       "\\begin{tabular}{r|lll}\n",
       " V1 & V2 & V3\\\\\n",
       "\\hline\n",
       "\t NC\\_000001.11 & 14356          & 1             \\\\\n",
       "\t NC\\_000001.11 & 14357          & 1             \\\\\n",
       "\t NC\\_000001.11 & 14358          & 1             \\\\\n",
       "\t NC\\_000001.11 & 14359          & 1             \\\\\n",
       "\t NC\\_000001.11 & 14360          & 1             \\\\\n",
       "\t NC\\_000001.11 & 14361          & 1             \\\\\n",
       "\\end{tabular}\n"
      ],
      "text/markdown": [
       "\n",
       "V1 | V2 | V3 | \n",
       "|---|---|---|---|---|---|\n",
       "| NC_000001.11 | 14356        | 1            | \n",
       "| NC_000001.11 | 14357        | 1            | \n",
       "| NC_000001.11 | 14358        | 1            | \n",
       "| NC_000001.11 | 14359        | 1            | \n",
       "| NC_000001.11 | 14360        | 1            | \n",
       "| NC_000001.11 | 14361        | 1            | \n",
       "\n",
       "\n"
      ],
      "text/plain": [
       "  V1           V2    V3\n",
       "1 NC_000001.11 14356 1 \n",
       "2 NC_000001.11 14357 1 \n",
       "3 NC_000001.11 14358 1 \n",
       "4 NC_000001.11 14359 1 \n",
       "5 NC_000001.11 14360 1 \n",
       "6 NC_000001.11 14361 1 "
      ]
     },
     "metadata": {},
     "output_type": "display_data"
    }
   ],
   "source": [
    "head(data)"
   ]
  },
  {
   "cell_type": "code",
   "execution_count": 13,
   "metadata": {},
   "outputs": [
    {
     "data": {
      "text/html": [
       "<ol class=list-inline>\n",
       "\t<li>69159437</li>\n",
       "\t<li>1</li>\n",
       "</ol>\n"
      ],
      "text/latex": [
       "\\begin{enumerate*}\n",
       "\\item 69159437\n",
       "\\item 1\n",
       "\\end{enumerate*}\n"
      ],
      "text/markdown": [
       "1. 69159437\n",
       "2. 1\n",
       "\n",
       "\n"
      ],
      "text/plain": [
       "[1] 69159437        1"
      ]
     },
     "metadata": {},
     "output_type": "display_data"
    }
   ],
   "source": [
    "#Creates an equivalent normal dot scatterplot (harder for visualization)\n",
    "\n",
    "plot(\n",
    "    a431.chr$position,a431.chr$depth,\n",
    "    type='p',\n",
    "    pch=16,\n",
    "    xlim=c(min_pos,max_pos),\n",
    "    xlab='Position',\n",
    "    ylim=c(10,max_cvg),\n",
    "    ylab='Depth',\n",
    "    main='Sequence coverage depth',\n",
    "    xaxs='i',\n",
    "    yaxs='i')"
   ]
  }
 ],
 "metadata": {
  "kernelspec": {
   "display_name": "R",
   "language": "R",
   "name": "ir"
  },
  "language_info": {
   "codemirror_mode": "r",
   "file_extension": ".r",
   "mimetype": "text/x-r-source",
   "name": "R",
   "pygments_lexer": "r",
   "version": "3.4.1"
  }
 },
 "nbformat": 4,
 "nbformat_minor": 2
}
