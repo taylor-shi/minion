{
 "cells": [
  {
   "cell_type": "code",
   "execution_count": null,
   "metadata": {},
   "outputs": [],
   "source": [
    "#Terminal commands\n",
    "%%bash #include this line if done in a Jupyter notebook\n",
    "git clone https://github.com/lh3/minimap2\n",
    "cd minimap2 && make\n",
    "gunzip /path/to/fna.gz_file\n",
    "cp fna_file fa_file"
   ]
  },
  {
   "cell_type": "code",
   "execution_count": null,
   "metadata": {},
   "outputs": [],
   "source": [
    "def Minimap2(protocol,   #Nanopore protocol used\n",
    "             fasta,      #input fasta, include path from /minimap2/\n",
    "             sam_file,   #output sam file, include path from /minimap2/\n",
    "             ref_genome  #in the form of a index (command below)\n",
    "            ):\n",
    "    print \"Copy and paste. You should be in the minimap2 directory (cd /rundir;cd ./minimap2)\"\n",
    "    if protocol is 'RNA_dir':\n",
    "        print \"./minimap2 -ax splice -uf -k14 \"+ref_genome+\" \"+fasta+\" > \"+sam_file\n",
    "    if protocol is 'cDNA_1D':\n",
    "        print \"./minimap2 -ax splice:hq -uf \"+ref_genome+\" \"+fasta+\" > \"+sam_file"
   ]
  },
  {
   "cell_type": "code",
   "execution_count": null,
   "metadata": {},
   "outputs": [],
   "source": [
    "Minimap2(protocol='cDNA_1D',\n",
    "         fasta='/scratch/tshishido/2019-8-6_cdna/a431.b2/a431.b2.fasta',\n",
    "         sam_file='/scratch/tshishido/2019-8-6_cdna/a431.b2/a431.b2.sam',\n",
    "         ref_genome='/scratch/tshishido/software/human_ref.mmi'\n",
    "        )"
   ]
  },
  {
   "cell_type": "code",
   "execution_count": null,
   "metadata": {},
   "outputs": [],
   "source": [
    "#create index for long genomes\n",
    "./minimap2 -d human_ref.mmi fa_file\n",
    "\n",
    "#Normal alignment (output sam file)\n",
    "./minimap2 -a human_ref.mmi a431_data/a431_all.fasta > normal_aln.sam\n",
    "#mapping Nanopore 1D cDNA reads\n",
    "./minimap2 -ax splice:hq -uf ref.fa iso-seq.fq > aln.sam       # PacBio Iso-seq/traditional cDNA\n",
    "#mapping Nanopore Direct RNA-seq reads\n",
    "./minimap2 -ax splice -uf -k14 GRCh38_latest_genomic.fa a431_data/a431_all.fasta > rnadirect_aln.sam"
   ]
  }
 ],
 "metadata": {
  "kernelspec": {
   "display_name": "Python [default]",
   "language": "python",
   "name": "python2"
  },
  "language_info": {
   "codemirror_mode": {
    "name": "ipython",
    "version": 2
   },
   "file_extension": ".py",
   "mimetype": "text/x-python",
   "name": "python",
   "nbconvert_exporter": "python",
   "pygments_lexer": "ipython2",
   "version": "2.7.15"
  }
 },
 "nbformat": 4,
 "nbformat_minor": 2
}
