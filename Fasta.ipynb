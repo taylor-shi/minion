{
 "cells": [
  {
   "cell_type": "code",
   "execution_count": 1,
   "metadata": {},
   "outputs": [
    {
     "name": "stderr",
     "output_type": "stream",
     "text": [
      "DEBUG:matplotlib.backends:backend module://ipykernel.pylab.backend_inline version unknown\n"
     ]
    },
    {
     "name": "stdout",
     "output_type": "stream",
     "text": [
      "Populating the interactive namespace from numpy and matplotlib\n"
     ]
    },
    {
     "data": {
      "text/html": [
       "<script>requirejs.config({paths: { 'plotly': ['https://cdn.plot.ly/plotly-latest.min']},});if(!window.Plotly) {{require(['plotly'],function(plotly) {window.Plotly=plotly;});}}</script>"
      ],
      "text/vnd.plotly.v1+html": [
       "<script>requirejs.config({paths: { 'plotly': ['https://cdn.plot.ly/plotly-latest.min']},});if(!window.Plotly) {{require(['plotly'],function(plotly) {window.Plotly=plotly;});}}</script>"
      ]
     },
     "metadata": {},
     "output_type": "display_data"
    },
    {
     "name": "stderr",
     "output_type": "stream",
     "text": [
      "DEBUG:matplotlib.backends:backend module://ipykernel.pylab.backend_inline version unknown\n"
     ]
    }
   ],
   "source": [
    "import os, sys, subprocess\n",
    "\n",
    "## CONTRIB\n",
    "import pandas as pd\n",
    "import seaborn as sns\n",
    "import numpy as np\n",
    "import itertools\n",
    "#import gseapy as gp\n",
    "import time \n",
    "## LOCAL\n",
    "import isistools\n",
    "from ngstools import HSModel, MDA\n",
    "#from ngstools.Drona import *\n",
    "%pylab inline\n",
    "import cPickle as pickle\n",
    "import inspect\n",
    "from IPython.display import HTML\n",
    "import scipy\n",
    "# import ngstools\n",
    "# print inspect.getsource(ngstools.Drona)\n",
    "\n",
    "import plotly.offline as po \n",
    "from plotly.graph_objs import *\n",
    "po.init_notebook_mode(connected=True) \n",
    "from plotly.tools import FigureFactory as FF\n",
    "\n",
    "import warnings\n",
    "warnings.filterwarnings(\"ignore\")\n",
    "import logging\n",
    "logging.getLogger(\"requests\").setLevel(logging.WARNING)\n",
    "logging.getLogger(\"urllib3\").setLevel(logging.WARNING)\n",
    "\n",
    "import contextlib\n",
    "import sys\n",
    "\n",
    "@contextlib.contextmanager\n",
    "def stdout_redirect(where):\n",
    "    sys.stdout = where\n",
    "    try:\n",
    "        yield where\n",
    "    finally:\n",
    "        sys.stdout = sys.__stdout__\n",
    "        \n",
    "import matplotlib.pyplot as plt\n",
    "from Bio import SeqIO\n",
    "from decimal import Decimal\n",
    "import regex"
   ]
  },
  {
   "cell_type": "markdown",
   "metadata": {},
   "source": [
    "**Summary read lengths statistics. Barcodes not removed.**"
   ]
  },
  {
   "cell_type": "code",
   "execution_count": 33,
   "metadata": {},
   "outputs": [],
   "source": [
    "#Alternative method of converting fastq to fasta format\n",
    "!sed -n '1~4s/^@/>/p;2~4p' {directory}/{file} > {directory}/fasta/{new_file}"
   ]
  },
  {
   "cell_type": "code",
   "execution_count": 2,
   "metadata": {},
   "outputs": [],
   "source": [
    "def FastaStats(fasta,              #full path to fasta file\n",
    "               data_label,          #To label output\n",
    "               histogram):          #bool value to generate histogram of read lengths\n",
    "    ids=0\n",
    "    cum_reads=0\n",
    "    read_lens=[]\n",
    "    count_over300=0\n",
    "    with open(fasta) as fasta_file:\n",
    "        for read in SeqIO.parse(fasta_file,'fasta'):\n",
    "            ids+=1\n",
    "            cum_reads+=len(read)\n",
    "            read_lens.append(len(read))\n",
    "            if len(read)>=300: count_over300+=1\n",
    "    print 'Fasta stats for '+data_label\n",
    "    print str(ids)+' reads total'\n",
    "    print 'Total bases sequenced: '+str(cum_reads)\n",
    "    print 'Overall read length statistics (in bp):'\n",
    "    print 'Mean= '+str(cum_reads/ids)\n",
    "    print 'Median= '+str(median(read_lens))\n",
    "    print('Min= '+str(min(read_lens)))\n",
    "    print 'Max= '+str(max(read_lens))\n",
    "    print('# Reads over 300bp: '+str(count_over300))\n",
    "    \n",
    "    if histogram:\n",
    "        hist=plt.hist(read_lens,bins=60,edgecolor='black')\n",
    "        plt.title('Read Length Histogram of '+data_label)\n",
    "        plt.xlabel('Number of bases')\n",
    "        plt.xlim(min(read_lens),14000)\n",
    "        plt.show()\n",
    "        cum_hist=plt.hist(read_lens,bins=60,cumulative=True,histtype='step',facecolor='green')\n",
    "        plt.title('Cumulative Read Lengths of '+data_label)\n",
    "        plt.xlabel('Number of bases')\n",
    "        plt.show()"
   ]
  },
  {
   "cell_type": "code",
   "execution_count": 6,
   "metadata": {},
   "outputs": [
    {
     "name": "stdout",
     "output_type": "stream",
     "text": [
      "Fasta stats for a431utc\n",
      "581661 reads total\n",
      "Total bases sequenced: 1191217059\n",
      "Overall read length statistics (in bp):\n",
      "Mean= 2047\n",
      "Median= 1889.0\n",
      "Min= 73\n",
      "Max= 70596\n",
      "# Reads over 300bp: 567801\n"
     ]
    },
    {
     "data": {
      "image/png": "[encoded data removed]",
      "text/plain": [
       "<Figure size 432x288 with 1 Axes>"
      ]
     },
     "metadata": {
      "needs_background": "light"
     },
     "output_type": "display_data"
    },
    {
     "data": {
      "image/png": "[encoded data removed]",
      "text/plain": [
       "<Figure size 432x288 with 1 Axes>"
      ]
     },
     "metadata": {
      "needs_background": "light"
     },
     "output_type": "display_data"
    }
   ],
   "source": [
    "FastaStats('2019-8-6_cdna/a431utc/a431utc.fasta',\n",
    "          'a431utc',\n",
    "          True)"
   ]
  }
 ],
 "metadata": {
  "kernelspec": {
   "display_name": "Python [default]",
   "language": "python",
   "name": "python2"
  },
  "language_info": {
   "codemirror_mode": {
    "name": "ipython",
    "version": 2
   },
   "file_extension": ".py",
   "mimetype": "text/x-python",
   "name": "python",
   "nbconvert_exporter": "python",
   "pygments_lexer": "ipython2",
   "version": "2.7.15"
  }
 },
 "nbformat": 4,
 "nbformat_minor": 2
}
