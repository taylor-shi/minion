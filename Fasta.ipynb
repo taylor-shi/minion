{
 "cells": [
  {
   "cell_type": "code",
   "execution_count": null,
   "metadata": {},
   "outputs": [],
   "source": [
    "import os, sys, subprocess\n",
    "\n",
    "## CONTRIB\n",
    "import pandas as pd\n",
    "import seaborn as sns\n",
    "import numpy as np\n",
    "import itertools\n",
    "#import gseapy as gp\n",
    "import time \n",
    "## LOCAL\n",
    "import isistools\n",
    "from ngstools import HSModel, MDA\n",
    "#from ngstools.Drona import *\n",
    "%pylab inline\n",
    "import cPickle as pickle\n",
    "import inspect\n",
    "from IPython.display import HTML\n",
    "import scipy\n",
    "# import ngstools\n",
    "# print inspect.getsource(ngstools.Drona)\n",
    "\n",
    "import plotly.offline as po \n",
    "from plotly.graph_objs import *\n",
    "po.init_notebook_mode(connected=True) \n",
    "from plotly.tools import FigureFactory as FF\n",
    "\n",
    "import warnings\n",
    "warnings.filterwarnings(\"ignore\")\n",
    "import logging\n",
    "logging.getLogger(\"requests\").setLevel(logging.WARNING)\n",
    "logging.getLogger(\"urllib3\").setLevel(logging.WARNING)\n",
    "\n",
    "import contextlib\n",
    "import sys\n",
    "\n",
    "@contextlib.contextmanager\n",
    "def stdout_redirect(where):\n",
    "    sys.stdout = where\n",
    "    try:\n",
    "        yield where\n",
    "    finally:\n",
    "        sys.stdout = sys.__stdout__\n",
    "        \n",
    "import matplotlib.pyplot as plt\n",
    "from Bio import SeqIO\n",
    "from decimal import Decimal\n",
    "import regex"
   ]
  },
  {
   "cell_type": "markdown",
   "metadata": {},
   "source": [
    "**Summary read lengths statistics. Barcodes not removed.**"
   ]
  },
  {
   "cell_type": "code",
   "execution_count": null,
   "metadata": {},
   "outputs": [],
   "source": [
    "#Alternative method of converting fastq to fasta format\n",
    "!sed -n '1~4s/^@/>/p;2~4p' {directory}/{file} > {directory}/fasta/{new_file}"
   ]
  },
  {
   "cell_type": "code",
   "execution_count": null,
   "metadata": {},
   "outputs": [],
   "source": [
    "def FastaStats(fasta,              #full path to fasta file\n",
    "               data_label,          #To label output\n",
    "               histogram):          #bool value to generate histogram of read lengths\n",
    "    ids=0\n",
    "    cum_reads=0\n",
    "    read_lens=[]\n",
    "    count_over300=0\n",
    "    with open(fasta) as fasta_file:\n",
    "        for read in SeqIO.parse(fasta_file,'fasta'):\n",
    "            ids+=1\n",
    "            cum_reads+=len(read)\n",
    "            read_lens.append(len(read))\n",
    "            if len(read)>=300: count_over300+=1\n",
    "    print 'Fasta stats for '+data_label\n",
    "    print str(ids)+' reads total'\n",
    "    print 'Total bases sequenced: '+str(cum_reads)\n",
    "    print 'Overall read length statistics (in bp):'\n",
    "    print 'Mean= '+str(cum_reads/ids)\n",
    "    print 'Median= '+str(median(read_lens))\n",
    "    print('Min= '+str(min(read_lens)))\n",
    "    print 'Max= '+str(max(read_lens))\n",
    "    print('# Reads over 300bp: '+str(count_over300))\n",
    "    \n",
    "    if histogram:\n",
    "        hist=plt.hist(read_lens,bins=60,edgecolor='black')\n",
    "        plt.title('Read Length Histogram of '+data_label)\n",
    "        plt.xlabel('Number of bases')\n",
    "        plt.xlim(min(read_lens),14000)\n",
    "        plt.show()\n",
    "        cum_hist=plt.hist(read_lens,bins=60,cumulative=True,histtype='step',facecolor='green')\n",
    "        plt.title('Cumulative Read Lengths of '+data_label)\n",
    "        plt.xlabel('Number of bases')\n",
    "        plt.show()"
   ]
  },
  {
   "cell_type": "code",
   "execution_count": null,
   "metadata": {},
   "outputs": [],
   "source": [
    "FastaStats('2019-8-6_cdna/a431utc/a431utc.fasta',\n",
    "          'a431utc',\n",
    "          True)"
   ]
  }
 ],
 "metadata": {
  "kernelspec": {
   "display_name": "Python [default]",
   "language": "python",
   "name": "python2"
  },
  "language_info": {
   "codemirror_mode": {
    "name": "ipython",
    "version": 2
   },
   "file_extension": ".py",
   "mimetype": "text/x-python",
   "name": "python",
   "nbconvert_exporter": "python",
   "pygments_lexer": "ipython2",
   "version": "2.7.15"
  }
 },
 "nbformat": 4,
 "nbformat_minor": 2
}
