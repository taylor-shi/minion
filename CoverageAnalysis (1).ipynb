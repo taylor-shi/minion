{
 "cells": [
  {
   "cell_type": "code",
   "execution_count": 1,
   "metadata": {},
   "outputs": [
    {
     "name": "stdout",
     "output_type": "stream",
     "text": [
      "Collecting pyfasta\n",
      "  Downloading https://files.pythonhosted.org/packages/be/3f/794fbcdaaa2113f0a1d16a962463896c1a6bdab77bd63f33a8f16aae6cdc/pyfasta-0.5.2.tar.gz\n",
      "Building wheels for collected packages: pyfasta\n",
      "  Running setup.py bdist_wheel for pyfasta ... \u001b[?25ldone\n",
      "\u001b[?25h  Stored in directory: /root/.cache/pip/wheels/ef/57/33/7b569168243dfbfe60bd3533e6897d170b391f2ce58df9d275\n",
      "Successfully built pyfasta\n",
      "Installing collected packages: pyfasta\n",
      "Successfully installed pyfasta-0.5.2\n",
      "\u001b[33mYou are using pip version 9.0.1, however version 19.2.1 is available.\n",
      "You should consider upgrading via the 'pip install --upgrade pip' command.\u001b[0m\n"
     ]
    }
   ],
   "source": [
    "!pip install pyfasta\n",
    "import os, sys, subprocess\n",
    "\n",
    "## CONTRIB\n",
    "import pandas as pd\n",
    "import seaborn as sns\n",
    "import numpy as np\n",
    "import itertools\n",
    "#import gseapy as gp\n",
    "import time \n",
    "## LOCAL\n",
    "import isistools\n",
    "from ngstools import HSModel, MDA\n",
    "#from ngstools.Drona import *\n",
    "%pylab inline\n",
    "import cPickle as pickle\n",
    "import inspect\n",
    "from IPython.display import HTML\n",
    "import scipy\n",
    "# import ngstools\n",
    "# print inspect.getsource(ngstools.Drona)\n",
    "\n",
    "import plotly.offline as po \n",
    "from plotly.graph_objs import *\n",
    "po.init_notebook_mode(connected=True) \n",
    "from plotly.tools import FigureFactory as FF\n",
    "\n",
    "import warnings\n",
    "warnings.filterwarnings(\"ignore\")\n",
    "import logging\n",
    "logging.getLogger(\"requests\").setLevel(logging.WARNING)\n",
    "logging.getLogger(\"urllib3\").setLevel(logging.WARNING)\n",
    "\n",
    "import contextlib\n",
    "import sys\n",
    "import csv\n",
    "\n",
    "@contextlib.contextmanager\n",
    "def stdout_redirect(where):\n",
    "    sys.stdout = where\n",
    "    try:\n",
    "        yield where\n",
    "    finally:\n",
    "        sys.stdout = sys.__stdout__\n",
    "        \n",
    "import matplotlib.pyplot as plt\n",
    "from Bio import SeqIO\n",
    "from decimal import Decimal\n",
    "import regex\n",
    "from multiprocessing import Pool"
   ]
  },
  {
   "cell_type": "code",
   "execution_count": 84,
   "metadata": {},
   "outputs": [],
   "source": [
    "def Samtools(directory,      #output directory,\n",
    "             file,           #shortened path of SAM file (output of Minimap2)\n",
    "            chr_region):     #list of chromosomes as a single string (see bottom of cell)    \n",
    "    filename=file.split('.')[0]+'.bam'\n",
    "    !samtools view -bS {directory+'/'+file} > {directory+'/'+filename}\n",
    "    sort_aln=directory+'/sorted_aln.bam'\n",
    "    !samtools sort -o {sort_aln} {directory+'/'+filename}\n",
    "    !samtools index {sort_aln}\n",
    "    !samtools flagstat {sort_aln}\n",
    "    \n",
    "        #Eliminate unmapped reads\n",
    "    mapped=directory+'/merged_mapped.bam'\n",
    "    !samtools view -b -F 4 {sort_aln} > {mapped}\n",
    "\n",
    "        #Reference sequences and mapped reads\n",
    "    print('')\n",
    "    print('Ref seq name|Seq lgth|#mapped reads|#unmapped reads')\n",
    "    !samtools index {mapped}\n",
    "    !samtools idxstats {mapped} > {directory}/aln_index.csv\n",
    "    !head -3 {directory}/aln_index.csv\n",
    "\n",
    "    print ''\n",
    "    print 'Extracting reads mapped to main chromosomes...'\n",
    "    newfile=directory+'/chr_only'\n",
    "    !samtools view -b {mapped} {chr_region} > {newfile}.bam\n",
    "    print('Whole bam file:')\n",
    "    !wc -l {mapped}\n",
    "    print('chr_only'+' bam file:')\n",
    "    !wc -l {newfile}.bam\n",
    "    !samtools flagstat {newfile}.bam\n",
    "    !samtools view -h {newfile}.bam > {newfile}.sam\n",
    "    !samtools index {newfile}.bam\n",
    "\n",
    "#Strings of GENCODE chromosome labels, for Samtools()\n",
    "hum_chrs='NC_000001.11 NC_000002.12 NC_000015.10 NC_000003.12 NC_000016.10 NC_000004.12 NC_000017.11 NC_000005.10 NC_000018.10 NC_000006.12  NC_000019.10 NC_000007.14 NC_000020.11 NC_000008.11 NC_000021.9 NC_000009.12 NC_000022.11 NC_000010.11 NC_000023.11 NC_000011.10 NC_000024.10 NC_000012.12 NC_000013.11 NC_000014.9'\n",
    "mouse_chrs='NC_000067.6 NC_000068.7 NC_000069.6 NC_000070.6 NC_000071.6 NC_000072.6 NC_000073.6 NC_000074.6 NC_000075.6 NC_000076.6 NC_000077.6 NC_000078.6 NC_000079.6 NC_000080.6 NC_000081.6 NC_000082.6 NC_000083.6 NC_000084.6 NC_000085.6 NC_000086.7 NC_000087.7'"
   ]
  },
  {
   "cell_type": "code",
   "execution_count": 87,
   "metadata": {},
   "outputs": [
    {
     "name": "stdout",
     "output_type": "stream",
     "text": [
      "[bam_sort_core] merging from 3 files...\n",
      "499897 + 0 in total (QC-passed reads + QC-failed reads)\n",
      "111213 + 0 secondary\n",
      "1403 + 0 supplementary\n",
      "0 + 0 duplicates\n",
      "194638 + 0 mapped (38.94% : N/A)\n",
      "0 + 0 paired in sequencing\n",
      "0 + 0 read1\n",
      "0 + 0 read2\n",
      "0 + 0 properly paired (N/A : N/A)\n",
      "0 + 0 with itself and mate mapped\n",
      "0 + 0 singletons (N/A : N/A)\n",
      "0 + 0 with mate mapped to a different chr\n",
      "0 + 0 with mate mapped to a different chr (mapQ>=5)\n",
      "\n",
      "Ref seq name|Seq lgth|#mapped reads|#unmapped reads\n",
      "NC_000001.11\t248956422\t7302\t0\n",
      "NT_187361.1\t175055\t1\t0\n",
      "NT_187362.1\t32032\t0\t0\n",
      "\n",
      "Extracting reads mapped to main chromosomes...\n",
      "Whole bam file:\n",
      "239614 2019-7-26_cdna/liver/merged_mapped.bam\n",
      "chr_only bam file:\n",
      "194399 2019-7-26_cdna/liver/chr_only.bam\n",
      "130449 + 0 in total (QC-passed reads + QC-failed reads)\n",
      "59058 + 0 secondary\n",
      "1032 + 0 supplementary\n",
      "0 + 0 duplicates\n",
      "130449 + 0 mapped (100.00% : N/A)\n",
      "0 + 0 paired in sequencing\n",
      "0 + 0 read1\n",
      "0 + 0 read2\n",
      "0 + 0 properly paired (N/A : N/A)\n",
      "0 + 0 with itself and mate mapped\n",
      "0 + 0 singletons (N/A : N/A)\n",
      "0 + 0 with mate mapped to a different chr\n",
      "0 + 0 with mate mapped to a different chr (mapQ>=5)\n"
     ]
    }
   ],
   "source": [
    "Samtools('2019-7-26_cdna/liver',\n",
    "        'liver.sam',\n",
    "        hum_chrs)"
   ]
  },
  {
   "cell_type": "code",
   "execution_count": 19,
   "metadata": {},
   "outputs": [],
   "source": [
    "directory='2019-8-6_cdna/a431.b3' #This directory needs to be defined every time TranscriptClean() is run\n",
    "\n",
    "def TranscriptClean(chrs):   \n",
    "    for my_chr in chrs:\n",
    "        !samtools view -h {directory}/chr_only.bam {my_chr} > {directory}/{my_chr}.sam\n",
    "        \n",
    "        script='software/transcriptclean/TranscriptClean-master/TranscriptClean.py'\n",
    "        hum_variants='software/transcriptclean/TranscriptClean-master/common_variant_human'\n",
    "        genome='software/homo_GRCh38_trimmed_ref.fa'\n",
    "        !python {script} --sam {directory}/{my_chr}.sam --variants {hum_variants} --genome {genome} --outprefix {directory}/trcl_VA/{my_chr}\n",
    "                    \n",
    "def multiRunWrapper(args): # intermediate for parallel processing\n",
    "    # print 'step 1'\n",
    "    return TranscriptClean(args)\n",
    "def RunMany(inputList): # set up parallel processing\n",
    "    #import psutil\n",
    "    #cpuNumber = psutil.cpu_count()\n",
    "    #print 'number of processors:', cpuNumber\n",
    "    pool = Pool(processes=32)\n",
    "    imageScores = pool.map(multiRunWrapper, inputList)\n",
    "    pool.close()\n",
    "    pool.join()\n",
    "    return imageScores\n",
    "    print 'done'\n",
    "    \n",
    "def SplitSamTrCl(directory,\n",
    "                chrs,       #list of chromsomes\n",
    "                pool_chrs): #list of lists (each nested list contains a chromosome label as its only item)\n",
    "    !mkdir {directory}/trcl_VA\n",
    "    RunMany(pool_chrs)\n",
    "\n",
    "    new_d=directory+'/trcl_VA'\n",
    "    !cat {new_d}/*_clean.fa > {new_d}/_clean.fa\n",
    "    !cat {new_d}/*_clean.log > {new_d}/_clean.log\n",
    "    !cat {new_d}/*_clean.TE.log > {new_d}/_clean.TE.log\n",
    "    #Merge corrected SAM into one BAM\n",
    "    !mkdir {new_d}/temp_bam\n",
    "    !mkdir {directory}/chr_cvg\n",
    "    avg_cvgs=[]\n",
    "    chr_ids=[]\n",
    "    seq_lengths=[]\n",
    "\n",
    "    for achr in chrs:\n",
    "        !samtools view -S -b {new_d}/{achr}_clean.sam > {new_d}/temp_bam/{achr}_clean.bam\n",
    "        !samtools view -S -b {directory}/{achr}.sam > {new_d}/temp_bam/{achr}_clean.bam\n",
    "        \n",
    "#     Create final bam file for conversion to BED for flair\n",
    "    !samtools merge {new_d}/_clean.bam {new_d}/temp_bam/*_clean.bam\n",
    "    !samtools sort -o {new_d}/_cleansort.bam {new_d}/_clean.bam\n",
    "    !samtools index {new_d}/_cleansort.bam\n",
    "    !samtools view -h {new_d}/_cleansort.bam > {new_d}/_cleansort.sam\n",
    "    !rm -R {new_d}/temp_bam\n",
    "    \n",
    "    \n",
    "#Calculate error rate from TranscriptClean log file and cleaned fasta file\n",
    "def Error(new_dir,fasta_path):\n",
    "    errors=0\n",
    "    with open(new_dir+'/_clean.TE.log') as csvfile:\n",
    "        data=csv.reader(csvfile,delimiter='\\t')\n",
    "        next(data)\n",
    "        for row in data:\n",
    "            if 'Size' not in row[3]: errors+=float(row[3])\n",
    "    print('Total number of error bases, detected by TranscriptClean: '+str(errors))\n",
    "    cum_bases=0\n",
    "    with open(fasta_path) as fasta_file:\n",
    "            for read in SeqIO.parse(fasta_file,'fasta'):\n",
    "                cum_bases+=len(read)\n",
    "    print('Total number of bases sequenced from  '+new_dir+': '+str(cum_bases))\n",
    "    print('Sequencing error rate: '+str(errors/cum_bases*100)+'%')"
   ]
  },
  {
   "cell_type": "code",
   "execution_count": 85,
   "metadata": {},
   "outputs": [
    {
     "name": "stdout",
     "output_type": "stream",
     "text": [
      "[['NC_000001.11'], ['NC_000002.12'], ['NC_000015.10'], ['NC_000003.12'], ['NC_000016.10'], ['NC_000004.12'], ['NC_000017.11'], ['NC_000005.10'], ['NC_000018.10'], ['NC_000006.12'], ['NC_000019.10'], ['NC_000007.14'], ['NC_000020.11'], ['NC_000008.11'], ['NC_000021.9'], ['NC_000009.12'], ['NC_000022.11'], ['NC_000010.11'], ['NC_000023.11'], ['NC_000011.10'], ['NC_000024.10'], ['NC_000012.12'], ['NC_000013.11'], ['NC_000014.9']]\n"
     ]
    }
   ],
   "source": [
    "chrs=['NC_000001.11', 'NC_000002.12', 'NC_000015.10','NC_000003.12', 'NC_000016.10', 'NC_000004.12', 'NC_000017.11', 'NC_000005.10', 'NC_000018.10', 'NC_000006.12',  'NC_000019.10', 'NC_000007.14', 'NC_000020.11', 'NC_000008.11', 'NC_000021.9', 'NC_000009.12', 'NC_000022.11', 'NC_000010.11', 'NC_000023.11', 'NC_000011.10', 'NC_000024.10', 'NC_000012.12', 'NC_000013.11', 'NC_000014.9']\n",
    "pool_list=[]\n",
    "for achr in chrs:\n",
    "    pool_list.append([achr])\n",
    "print pool_list"
   ]
  },
  {
   "cell_type": "code",
   "execution_count": null,
   "metadata": {},
   "outputs": [],
   "source": [
    "SplitSamTrCl('2019-8-6_cdna/a431utc',\n",
    "                chrs,       #list of chromsomes\n",
    "                pool_list)"
   ]
  },
  {
   "cell_type": "code",
   "execution_count": 8,
   "metadata": {},
   "outputs": [
    {
     "name": "stdout",
     "output_type": "stream",
     "text": [
      "Total number of error bases, detected by TranscriptClean: 86486918.0\n",
      "Total number of bases sequenced from  2019-7-22_dirrna/trcl_VA: 476543859\n",
      "Sequencing error rate: 18.1487844962%\n",
      "Total number of error bases, detected by TranscriptClean: 85814746.0\n",
      "Total number of bases sequenced from  2019-7-26_cdna/a431utc/trcl_VA: 843609123\n",
      "Sequencing error rate: 10.1723349903%\n"
     ]
    }
   ],
   "source": [
    "Error(\"2019-7-22_dirrna/trcl_VA\",\"2019-7-22_dirrna/trcl_VA/_clean.fa\")\n",
    "Error(\"2019-7-26_cdna/a431utc/trcl_VA\",\"2019-7-26_cdna/a431utc/trcl_VA/_clean.fa\")"
   ]
  },
  {
   "cell_type": "code",
   "execution_count": 86,
   "metadata": {},
   "outputs": [
    {
     "name": "stdout",
     "output_type": "stream",
     "text": [
      "['s/chr1/NC_000067.6/g', 's/chr2/NC_000068.7/g', 's/chr3/NC_000069.6/g', 's/chr4/NC_000070.6/g', 's/chr5/NC_000071.6/g', 's/chr6/NC_000072.6/g', 's/chr7/NC_000073.6/g', 's/chr8/NC_000074.6/g', 's/chr9/NC_000075.6/g', 's/chr10/NC_000076.6/g', 's/chr11/NC_000077.6/g', 's/chr12/NC_000078.6/g', 's/chr13/NC_000079.6/g', 's/chr14/NC_000080.6/g', 's/chr15/NC_000081.6/g', 's/chr16/NC_000082.6/g', 's/chr17/NC_000083.6/g', 's/chr18/NC_000084.6/g', 's/chr19/NC_000085.6/g', 's/chrX/NC_000086.7/g', 's/chrY/NC_000087.7/g']\n"
     ]
    }
   ],
   "source": [
    "#Created new GENCODE mouse annotation (vM22) with consistent chromosome labels ('NC_' format)\n",
    "\n",
    "file=open('software/mouse_chr.txt')\n",
    "reader=file.readlines()\n",
    "ids=[]\n",
    "names=[]\n",
    "count=1\n",
    "for row in reader:\n",
    "    if count==22: break\n",
    "    name= row.split('>')[1].split(' Mus')[0]\n",
    "    ids.append(name)\n",
    "    if count==20: names.append('chrX')\n",
    "    elif count==21: names.append('chrY')\n",
    "    else: names.append('chr'+str(count))\n",
    "    count+=1\n",
    "subs=[]\n",
    "for i,n in map(None,ids,names):\n",
    "    subs.append('s/'+n+'/'+i+'/g')\n",
    "print subs"
   ]
  }
 ],
 "metadata": {
  "kernelspec": {
   "display_name": "Python [default]",
   "language": "python",
   "name": "python2"
  },
  "language_info": {
   "codemirror_mode": {
    "name": "ipython",
    "version": 2
   },
   "file_extension": ".py",
   "mimetype": "text/x-python",
   "name": "python",
   "nbconvert_exporter": "python",
   "pygments_lexer": "ipython2",
   "version": "2.7.15"
  },
  "toc": {
   "colors": {
    "hover_highlight": "#DAA520",
    "navigate_num": "#000000",
    "navigate_text": "#333333",
    "running_highlight": "#FF0000",
    "selected_highlight": "#FFD700",
    "sidebar_border": "#EEEEEE",
    "wrapper_background": "#FFFFFF"
   },
   "moveMenuLeft": true,
   "nav_menu": {
    "height": "12px",
    "width": "252px"
   },
   "navigate_menu": true,
   "number_sections": true,
   "sideBar": true,
   "threshold": 4,
   "toc_cell": false,
   "toc_section_display": "block",
   "toc_window_display": false,
   "widenNotebook": false
  }
 },
 "nbformat": 4,
 "nbformat_minor": 2
}
