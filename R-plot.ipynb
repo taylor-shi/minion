{
 "cells": [
  {
   "cell_type": "code",
   "execution_count": null,
   "metadata": {},
   "outputs": [],
   "source": [
    "#Create color density plot showing coverage across a chromosome\n",
    "\n",
    "fileext<- '2019-7-8_3CL/A431/chr_cvg/NC_000001.11_cvg'  ##change input file\n",
    "csv<-paste(fileext, \".csv\", sep=\"\")\n",
    "a431 <- read.csv(csv,header=FALSE,sep='\\t')\n",
    "data <- a431\n",
    "\n",
    "data<-data[data$V3>=10,]\n",
    "\n",
    "jpg<-paste(fileext, '.jpg', sep=\"\")\n",
    "min_pos<-min(data$V2)\n",
    "min_pos\n",
    "max_pos<-max(data$V2)\n",
    "max_pos\n",
    "max_cvg<-max(data$V3)\n",
    "max_cvg\n",
    "\n",
    "jpeg(jpg)#change output filename here\n",
    "smoothScatter(\n",
    "    data$V2,data$V3,\n",
    "    pch='.',\n",
    "    xlim=c(min_pos,max_pos),\n",
    "    xlab='Position',\n",
    "    ylim=c(10,700),\n",
    "    ylab='Depth',\n",
    "#     transformation = function(x) x^.25,\n",
    "#     nrpoints=100,\n",
    "    main='Sequence coverage depth',\n",
    "    xaxs='i',\n",
    "    yaxs='i')\n",
    "dev.off()"
   ]
  },
  {
   "cell_type": "code",
   "execution_count": null,
   "metadata": {},
   "outputs": [],
   "source": [
    "head(data)"
   ]
  },
  {
   "cell_type": "code",
   "execution_count": null,
   "metadata": {},
   "outputs": [],
   "source": [
    "#Creates an equivalent normal dot scatterplot (harder for visualization)\n",
    "\n",
    "plot(\n",
    "    a431.chr$position,a431.chr$depth,\n",
    "    type='p',\n",
    "    pch=16,\n",
    "    xlim=c(min_pos,max_pos),\n",
    "    xlab='Position',\n",
    "    ylim=c(10,max_cvg),\n",
    "    ylab='Depth',\n",
    "    main='Sequence coverage depth',\n",
    "    xaxs='i',\n",
    "    yaxs='i')"
   ]
  }
 ],
 "metadata": {
  "kernelspec": {
   "display_name": "R",
   "language": "R",
   "name": "ir"
  },
  "language_info": {
   "codemirror_mode": "r",
   "file_extension": ".r",
   "mimetype": "text/x-r-source",
   "name": "R",
   "pygments_lexer": "r",
   "version": "3.4.1"
  }
 },
 "nbformat": 4,
 "nbformat_minor": 2
}
