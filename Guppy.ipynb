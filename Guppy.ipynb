{
 "cells": [
  {
   "cell_type": "markdown",
   "metadata": {},
   "source": [
    "**Guppy basecalling was performed using AWS Batch, on automatically generated temporary instances.** Memory capacity was specified as 8GB and processing capacity was specified as 4 vCPUs (2 CPU cores, 2 threads per core). "
   ]
  },
  {
   "cell_type": "markdown",
   "metadata": {},
   "source": [
    "***Parameters of interest:***\n",
    "    \n",
    "    -i (--input_path)\n",
    "    -s (--save_path)\n",
    "    --num_callers\n",
    "    --cpu_threads_per_caller\n",
    "    -q (--records_per_fastq)\n",
    "    --reverse_sequence\n",
    "    -f (--flowcell)\n",
    "    -k (--kit)\n",
    "    -c (--config)  <- replaces flowcell and kit parameters\n"
   ]
  },
  {
   "cell_type": "code",
   "execution_count": null,
   "metadata": {},
   "outputs": [],
   "source": [
    "directory=\"2019-8-6_cdna/fast5\"\n",
    "#Command line code for running 144 fast5 files in parallel, each on its own instance\n",
    "\n",
    "#Change _0.fast5 to _140.fast5\n",
    "\n",
    "!for f in {1..140}\n",
    "    do mkdir 2019-8-6_cdna/fast5/input_folder${f} \n",
    "    done\n",
    "!for f in {1..140}\n",
    "    do mkdir 2019-8-6_cdna/fast5/output_folder${f}\n",
    "    done\n",
    "\n",
    "!for f in {1..140}\n",
    "    do mv 2019-8-6_cdna/fast5/FAL00983_33c8d93e51140908c8822799744f8a7c7781739e_${f}.fast5 2019-8-6_cdna/fast5/input_folder${f}/\n",
    "    done\n",
    "\n",
    "!for f in {1..140}\n",
    "    ##Most important line here##\n",
    "    do cat software/guppy/testscript.sh > software/guppy/cdna/script_${f}.sh && echo \"guppy_basecaller -i /scratch/tshishido/2019-8-6_cdna/fast5/input_folder${f} --save_path /scratch/tshishido/2019-8-6_cdna/fast5/output_folder${f} --num_callers 2 --verbose -c dna_r9.4.1_450bps_fast.cfg --cpu_threads_per_caller 2 -q 50000\"  >> software/guppy/cdna/script_${f}.sh\n",
    "    done\n",
    "\n",
    "!for f in {1..140}\n",
    "    do aws s3 cp software/guppy/cdna/script_${f}.sh s3://vfvf-scratch/awsbatch/guppy/\n",
    "    done"
   ]
  },
  {
   "cell_type": "markdown",
   "metadata": {},
   "source": [
    "Re-merge output and then convert to fasta format on Demultiplex.ipynb"
   ]
  }
 ],
 "metadata": {
  "kernelspec": {
   "display_name": "Python [default]",
   "language": "python",
   "name": "python2"
  },
  "language_info": {
   "codemirror_mode": {
    "name": "ipython",
    "version": 2
   },
   "file_extension": ".py",
   "mimetype": "text/x-python",
   "name": "python",
   "nbconvert_exporter": "python",
   "pygments_lexer": "ipython2",
   "version": "2.7.15"
  }
 },
 "nbformat": 4,
 "nbformat_minor": 2
}
